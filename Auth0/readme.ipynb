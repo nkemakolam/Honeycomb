{
 "cells": [
  {
   "cell_type": "markdown",
   "metadata": {},
   "source": [
    "To run the app\n",
    "1. docker-compose up --build\n",
    "\n",
    "\n",
    "2. docker-compose exec web flask shell\n",
    "3. from app import db\n",
    "4. db.create_all()\n",
    "5. exit()\n"
   ]
  },
  {
   "cell_type": "code",
   "execution_count": 1,
   "metadata": {
    "vscode": {
     "languageId": "shellscript"
    }
   },
   "outputs": [
    {
     "ename": "SyntaxError",
     "evalue": "invalid syntax (1148736461.py, line 1)",
     "output_type": "error",
     "traceback": [
      "\u001b[1;36m  Cell \u001b[1;32mIn[1], line 1\u001b[1;36m\u001b[0m\n\u001b[1;33m    curl --request POST \\\u001b[0m\n\u001b[1;37m                   ^\u001b[0m\n\u001b[1;31mSyntaxError\u001b[0m\u001b[1;31m:\u001b[0m invalid syntax\n"
     ]
    }
   ],
   "source": [
    "curl --request POST \\\n",
    "  --url 'https://cybercare.auth0.com/oauth/token' \\\n",
    "  --header 'content-type: application/x-www-form-urlencoded' \\\n",
    "  --data grant_type=client_credentials \\\n",
    "  --data client_id=vmaIlniUIDBIQmFJJteV9X2toinaa3NA \\\n",
    "  --data client_secret=MRtJek_Er6SweRSaQsV2rOoWi5sOUoIJBhcpT90lyEMFlCpF5hVG0VVrnh5cmEQ6 \\\n",
    "  --data audience=YOUR_API_IDENTIFIER"
   ]
  },
  {
   "cell_type": "markdown",
   "metadata": {},
   "source": [
    "api access token https://auth0.com/docs/secure/tokens/access-tokens/get-access-tokens"
   ]
  }
 ],
 "metadata": {
  "kernelspec": {
   "display_name": ".venv",
   "language": "python",
   "name": "python3"
  },
  "language_info": {
   "codemirror_mode": {
    "name": "ipython",
    "version": 3
   },
   "file_extension": ".py",
   "mimetype": "text/x-python",
   "name": "python",
   "nbconvert_exporter": "python",
   "pygments_lexer": "ipython3",
   "version": "3.12.7"
  }
 },
 "nbformat": 4,
 "nbformat_minor": 2
}
